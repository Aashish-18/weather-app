{
 "cells": [
  {
   "cell_type": "markdown",
   "metadata": {},
   "source": [
    "### <font color=\"red\">importing libraries"
   ]
  },
  {
   "cell_type": "code",
   "execution_count": null,
   "metadata": {},
   "outputs": [],
   "source": [
    "import requests\n",
    "import json\n",
    "import pyttsx3"
   ]
  },
  {
   "cell_type": "markdown",
   "metadata": {},
   "source": [
    "### <font color=\"red\">using api from weatherapi\n",
    "   "
   ]
  },
  {
   "cell_type": "code",
   "execution_count": 24,
   "metadata": {},
   "outputs": [
    {
     "name": "stdout",
     "output_type": "stream",
     "text": [
      "Enter name of the city\n",
      "mumbai\n"
     ]
    }
   ],
   "source": [
    "city=input(\"Enter name of the city\\n\")\n",
    "url=f\"http://api.weatherapi.com/v1/current.json?key=992fa38a0ad84d41afd150111233108&q={city}\"\n",
    "r=requests.get(url)\n",
    "dic =json.loads(r.text)\n",
    "t=(dic[\"current\"][\"temp_c\"])\n",
    "if __name__==\"__main__\":\n",
    "    engine=pyttsx3.init()\n",
    "    x=f\"The current weather in {city} is  {t} degree celcius\"\n",
    "    engine.say(x)\n",
    "    engine.runAndWait()"
   ]
  },
  {
   "cell_type": "code",
   "execution_count": null,
   "metadata": {},
   "outputs": [],
   "source": []
  }
 ],
 "metadata": {
  "kernelspec": {
   "display_name": "Python 3",
   "language": "python",
   "name": "python3"
  },
  "language_info": {
   "codemirror_mode": {
    "name": "ipython",
    "version": 3
   },
   "file_extension": ".py",
   "mimetype": "text/x-python",
   "name": "python",
   "nbconvert_exporter": "python",
   "pygments_lexer": "ipython3",
   "version": "3.6.4"
  }
 },
 "nbformat": 4,
 "nbformat_minor": 2
}
